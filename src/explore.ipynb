{
    "cells": [
        {
            "cell_type": "markdown",
            "metadata": {},
            "source": [
                "# CO2 Especification Detector\n",
                "\n",
                "- vamos a crear un modelo de IA para determinar el nivel de pureza de CO2 en el ambito alimenticio, dado por un analisis -ya sea de forma manual o por pdf.- y dar un aviso si pasa de las especificaciones del cliente.\n",
                "\n",
                "- Datos a tener en cuenta:\n",
                "    - Para esta primera versión voy a enfocarme en el CO2 liquido.\n",
                "\n",
                "- Pureza de CO2:\n",
                "    - 99,9 %\n",
                "\n",
                "- Niveles de Impurezas permitidos:\n",
                "    - Humedad (H2O) <= 50 ppm v/v\n",
                "    - Oxigeno (O2) <= 30 ppm v/v\n",
                "    - Monoxido de Carbono (CO) <= 10 ppm v/v\n",
                "    - Óxidos de Nitrogeno (NOx) <= 10 ppm v/v\n",
                "    - Compuestos Organicos no Volatiles (COV) <= 5ppm v/v\n",
                "    - Hidrocarburos (CnHm) <= 30 ppm v/v\n",
                "    - Azufre Total (SO) <= 0.05 ppm v/v\n",
                "\n",
                "--------\n",
                "\n",
                "- NOTA:\n",
                "    - ppm v/v : Partes por millon en volumen.\n",
                "    - ppm w/w : Partes por millon en peso.\n",
                "\n",
                "- Link publico de AirLiquide con las especificaciones que utilizan:\n",
                "    - https://es.airliquide.com/gases/gases-de-calidad-alimentaria-aligal/aligaltm-2-dioxido-de-carbono-co2-de-calidad-alimentaria\n",
                "\n",
                "- Fecha del Notebook:\n",
                "    - 26/02/25"
            ]
        },
        {
            "cell_type": "markdown",
            "metadata": {},
            "source": [
                "# PROBLEMA: Los datos."
            ]
        }
    ],
    "metadata": {
        "kernelspec": {
            "display_name": "Python 3.8.13 64-bit ('3.8.13')",
            "language": "python",
            "name": "python3"
        },
        "language_info": {
            "codemirror_mode": {
                "name": "ipython",
                "version": 3
            },
            "file_extension": ".py",
            "mimetype": "text/x-python",
            "name": "python",
            "nbconvert_exporter": "python",
            "pygments_lexer": "ipython3",
            "version": "3.8.13"
        },
        "orig_nbformat": 4,
        "vscode": {
            "interpreter": {
                "hash": "110cc1dee26208153f2972f08a2ad52b6a56238dc66d48e87fb757ef2996db56"
            }
        }
    },
    "nbformat": 4,
    "nbformat_minor": 2
}
